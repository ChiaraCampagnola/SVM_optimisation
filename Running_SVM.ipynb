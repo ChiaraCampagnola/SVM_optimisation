{
 "cells": [
  {
   "cell_type": "code",
   "execution_count": 1,
   "metadata": {},
   "outputs": [],
   "source": [
    "import numpy as np\n",
    "\n",
    "from utils.data import create_data\n",
    "from utils.utils import scikit_svm, predict, accuracy, rbf_kernel\n",
    "from svm import SVM"
   ]
  },
  {
   "cell_type": "code",
   "execution_count": 2,
   "metadata": {},
   "outputs": [],
   "source": [
    "#create_data(file_name = 'data_38', classes = [3,8])\n",
    "load_data = np.load('data_38.npz')\n",
    "train_X, train_y = load_data['train_X'], load_data['train_y']\n",
    "test_X, test_y = load_data['test_X'], load_data['test_y']"
   ]
  },
  {
   "cell_type": "markdown",
   "metadata": {},
   "source": [
    "# Checking if data is linearly separable"
   ]
  },
  {
   "cell_type": "code",
   "execution_count": 10,
   "metadata": {},
   "outputs": [
    {
     "name": "stdout",
     "output_type": "stream",
     "text": [
      "Accuracy using linear kernel: 0.9702620967741935\n",
      "Accuracy using gaussian kernel: 0.9924395161290323\n"
     ]
    }
   ],
   "source": [
    "# Takes a bit to run\n",
    "#linear = scikit_svm('linear', train_X, train_y, test_X, test_y)\n",
    "#rbf = scikit_svm('rbf', train_X, train_y, test_X, test_y)\n",
    "print(f'Accuracy using linear kernel: {linear}')\n",
    "print(f'Accuracy using gaussian kernel: {rbf}')"
   ]
  },
  {
   "cell_type": "code",
   "execution_count": 3,
   "metadata": {},
   "outputs": [],
   "source": [
    "# Create mini dataset for testing\n",
    "train_X, train_y = train_X[:1000,:], train_y[:1000]\n",
    "test_X, test_y = test_X[:500,:], test_y[:500]"
   ]
  },
  {
   "cell_type": "markdown",
   "metadata": {},
   "source": [
    "# Running SMO"
   ]
  },
  {
   "cell_type": "markdown",
   "metadata": {},
   "source": [
    "## Get accuracy before training"
   ]
  },
  {
   "cell_type": "code",
   "execution_count": 8,
   "metadata": {},
   "outputs": [
    {
     "name": "stdout",
     "output_type": "stream",
     "text": [
      "Accuracy before training: 0.5090725806451613\n"
     ]
    }
   ],
   "source": [
    "num_training_examples = train_y.shape[0]\n",
    "\n",
    "alpha = np.ones(num_training_examples)\n",
    "b = 0\n",
    "kernel_matrix = rbf_kernel(train_X, test_X)\n",
    "\n",
    "pred_y = predict(alpha, kernel_matrix, b, train_y)\n",
    "\n",
    "print(f'Accuracy before training: {accuracy(pred_y, test_y)}')"
   ]
  },
  {
   "cell_type": "code",
   "execution_count": 4,
   "metadata": {},
   "outputs": [],
   "source": [
    "svm = SVM(optim = 'SMO',\n",
    "          kernel = 'rbf',\n",
    "          C = 1)"
   ]
  },
  {
   "cell_type": "code",
   "execution_count": 5,
   "metadata": {},
   "outputs": [],
   "source": [
    "svm.fit(train_X, train_y)"
   ]
  },
  {
   "cell_type": "code",
   "execution_count": 9,
   "metadata": {},
   "outputs": [
    {
     "name": "stdout",
     "output_type": "stream",
     "text": [
      "0.94\n"
     ]
    }
   ],
   "source": [
    "print(svm.get_accuracy(test_X, test_y))"
   ]
  },
  {
   "cell_type": "code",
   "execution_count": 8,
   "metadata": {},
   "outputs": [
    {
     "data": {
      "text/plain": [
       "338"
      ]
     },
     "execution_count": 8,
     "metadata": {},
     "output_type": "execute_result"
    }
   ],
   "source": [
    "len(svm.alpha)"
   ]
  },
  {
   "cell_type": "code",
   "execution_count": null,
   "metadata": {},
   "outputs": [],
   "source": []
  }
 ],
 "metadata": {
  "kernelspec": {
   "display_name": "COMP0120",
   "language": "python",
   "name": "comp0120"
  },
  "language_info": {
   "codemirror_mode": {
    "name": "ipython",
    "version": 3
   },
   "file_extension": ".py",
   "mimetype": "text/x-python",
   "name": "python",
   "nbconvert_exporter": "python",
   "pygments_lexer": "ipython3",
   "version": "3.6.9"
  }
 },
 "nbformat": 4,
 "nbformat_minor": 4
}
