{
 "cells": [
  {
   "cell_type": "code",
   "execution_count": 1,
   "metadata": {},
   "outputs": [],
   "source": [
    "import numpy as np\n",
    "\n",
    "from utils.data import create_data\n",
    "from utils.utils import scikit_svm, predict, accuracy, rbf_kernel, Q_matrix, is_pos_def\n",
    "from svm import SVM\n",
    "\n",
    "import matplotlib.pyplot as plt\n",
    "\n",
    "import time"
   ]
  },
  {
   "cell_type": "code",
   "execution_count": 2,
   "metadata": {},
   "outputs": [],
   "source": [
    "%matplotlib widget"
   ]
  },
  {
   "cell_type": "code",
   "execution_count": 3,
   "metadata": {},
   "outputs": [],
   "source": [
    "#create_data(file_name = 'data_38', classes = [3,8])\n",
    "load_data = np.load('data_38.npz')\n",
    "train_X, train_y = load_data['train_X'], load_data['train_y']\n",
    "test_X, test_y = load_data['test_X'], load_data['test_y']"
   ]
  },
  {
   "cell_type": "markdown",
   "metadata": {},
   "source": [
    "# Checking if data is linearly separable"
   ]
  },
  {
   "cell_type": "code",
   "execution_count": 10,
   "metadata": {},
   "outputs": [
    {
     "name": "stdout",
     "output_type": "stream",
     "text": [
      "Accuracy using linear kernel: 0.9702620967741935\n",
      "Accuracy using gaussian kernel: 0.9924395161290323\n"
     ]
    }
   ],
   "source": [
    "# Takes a bit to run\n",
    "#linear = scikit_svm('linear', train_X, train_y, test_X, test_y)\n",
    "#rbf = scikit_svm('rbf', train_X, train_y, test_X, test_y)\n",
    "print(f'Accuracy using linear kernel: {linear}')\n",
    "print(f'Accuracy using gaussian kernel: {rbf}')"
   ]
  },
  {
   "cell_type": "code",
   "execution_count": 4,
   "metadata": {},
   "outputs": [],
   "source": [
    "# Create mini dataset for testing\n",
    "train_X, train_y = train_X[:1000,:], train_y[:1000]\n",
    "test_X, test_y = test_X[:500,:], test_y[:500]"
   ]
  },
  {
   "cell_type": "markdown",
   "metadata": {},
   "source": [
    "# Running SMO"
   ]
  },
  {
   "cell_type": "markdown",
   "metadata": {},
   "source": [
    "## Get accuracy before training"
   ]
  },
  {
   "cell_type": "code",
   "execution_count": 8,
   "metadata": {},
   "outputs": [
    {
     "name": "stdout",
     "output_type": "stream",
     "text": [
      "Accuracy before training: 0.5090725806451613\n"
     ]
    }
   ],
   "source": [
    "num_training_examples = train_y.shape[0]\n",
    "\n",
    "alpha = np.ones(num_training_examples)\n",
    "b = 0\n",
    "kernel_matrix = rbf_kernel(train_X, test_X)\n",
    "\n",
    "pred_y = predict(alpha, kernel_matrix, b, train_y)\n",
    "\n",
    "print(f'Accuracy before training: {accuracy(pred_y, test_y)}')"
   ]
  },
  {
   "cell_type": "code",
   "execution_count": 5,
   "metadata": {},
   "outputs": [],
   "source": [
    "svm = SVM(optim = 'SMO-slow',\n",
    "          kernel = 'rbf',\n",
    "          C = 1)"
   ]
  },
  {
   "cell_type": "code",
   "execution_count": 6,
   "metadata": {},
   "outputs": [],
   "source": [
    "svm.fit(train_X, train_y)"
   ]
  },
  {
   "cell_type": "code",
   "execution_count": 7,
   "metadata": {},
   "outputs": [
    {
     "name": "stdout",
     "output_type": "stream",
     "text": [
      "0.932\n"
     ]
    }
   ],
   "source": [
    "print(svm.get_accuracy(test_X, test_y))"
   ]
  },
  {
   "cell_type": "markdown",
   "metadata": {},
   "source": [
    "# Check if Q is positive definite\n",
    "$Q$ is the matrix with elements $Q_{ij} = y_iy_jk(x_i,x_j)$"
   ]
  },
  {
   "cell_type": "code",
   "execution_count": 16,
   "metadata": {},
   "outputs": [],
   "source": [
    "Q_mat = Q(svm.train_X, svm.train_y)"
   ]
  },
  {
   "cell_type": "code",
   "execution_count": 17,
   "metadata": {},
   "outputs": [
    {
     "data": {
      "text/plain": [
       "True"
      ]
     },
     "execution_count": 17,
     "metadata": {},
     "output_type": "execute_result"
    }
   ],
   "source": [
    "is_pos_def(Q_mat)"
   ]
  },
  {
   "cell_type": "markdown",
   "metadata": {},
   "source": [
    "# Checking the convergence of g\n",
    "\n",
    "\\begin{equation}\n",
    "  g(\\alpha) = \\sum_{i=1}^m \\alpha_i - \\frac{1}{2}\\sum_{i=1}^m\\sum_{j=1}^m \\alpha_i \\alpha_j y_i y_j k(x_i,x_j)\n",
    "   \\label{eq:svoptim_problem}\n",
    "\\end{equation}"
   ]
  },
  {
   "cell_type": "code",
   "execution_count": 13,
   "metadata": {},
   "outputs": [
    {
     "data": {
      "application/vnd.jupyter.widget-view+json": {
       "model_id": "9352ceb3f75e4fccb73b2f6e7e8ca93f",
       "version_major": 2,
       "version_minor": 0
      },
      "text/plain": [
       "Canvas(toolbar=Toolbar(toolitems=[('Home', 'Reset original view', 'home', 'home'), ('Back', 'Back to previous …"
      ]
     },
     "metadata": {},
     "output_type": "display_data"
    },
    {
     "data": {
      "text/plain": [
       "Text(0.5, 0, 'Steps')"
      ]
     },
     "execution_count": 13,
     "metadata": {},
     "output_type": "execute_result"
    }
   ],
   "source": [
    "svm.plot_convergence()\n",
    "plt.xlabel('Steps')"
   ]
  },
  {
   "cell_type": "code",
   "execution_count": null,
   "metadata": {},
   "outputs": [],
   "source": []
  }
 ],
 "metadata": {
  "kernelspec": {
   "display_name": "COMP0120",
   "language": "python",
   "name": "comp0120"
  },
  "language_info": {
   "codemirror_mode": {
    "name": "ipython",
    "version": 3
   },
   "file_extension": ".py",
   "mimetype": "text/x-python",
   "name": "python",
   "nbconvert_exporter": "python",
   "pygments_lexer": "ipython3",
   "version": "3.6.9"
  }
 },
 "nbformat": 4,
 "nbformat_minor": 4
}
