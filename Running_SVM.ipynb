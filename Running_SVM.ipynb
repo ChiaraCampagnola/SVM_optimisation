{
 "cells": [
  {
   "cell_type": "code",
   "execution_count": 1,
   "metadata": {},
   "outputs": [],
   "source": [
    "import numpy as np\n",
    "\n",
    "from utils.data import create_data\n",
    "from utils.utils import scikit_svm, predict, accuracy, Q_matrix, is_pos_def\n",
    "from utils.kernels import rbf_kernel\n",
    "\n",
    "from optimisation.backtracking import backtracking\n",
    "from optimisation.newton import newton_method\n",
    "\n",
    "from svm import SVM\n",
    "\n",
    "import matplotlib.pyplot as plt\n",
    "\n",
    "import time"
   ]
  },
  {
   "cell_type": "code",
   "execution_count": 2,
   "metadata": {},
   "outputs": [],
   "source": [
    "%matplotlib widget"
   ]
  },
  {
   "cell_type": "code",
   "execution_count": 3,
   "metadata": {},
   "outputs": [],
   "source": [
    "#create_data(file_name = 'data_38', classes = [3,8])\n",
    "load_data = np.load('data_38.npz')\n",
    "train_X, train_y = load_data['train_X'], load_data['train_y']\n",
    "test_X, test_y = load_data['test_X'], load_data['test_y']"
   ]
  },
  {
   "cell_type": "markdown",
   "metadata": {},
   "source": [
    "# Checking if data is linearly separable"
   ]
  },
  {
   "cell_type": "code",
   "execution_count": 13,
   "metadata": {},
   "outputs": [
    {
     "name": "stdout",
     "output_type": "stream",
     "text": [
      "Accuracy using gaussian kernel: 0.9924395161290323\n"
     ]
    }
   ],
   "source": [
    "# Takes a bit to run\n",
    "#linear = scikit_svm('linear', train_X, train_y, test_X, test_y)\n",
    "rbf = scikit_svm('rbf', train_X, train_y, test_X, test_y)\n",
    "#print(f'Accuracy using linear kernel: {linear}')\n",
    "print(f'Accuracy using gaussian kernel: {rbf}')"
   ]
  },
  {
   "cell_type": "code",
   "execution_count": 4,
   "metadata": {},
   "outputs": [],
   "source": [
    "# Create mini dataset for testing\n",
    "train_X, train_y = train_X[:1000,:], train_y[:1000]\n",
    "test_X, test_y = test_X[:500,:], test_y[:500]"
   ]
  },
  {
   "cell_type": "markdown",
   "metadata": {},
   "source": [
    "# Running SMO"
   ]
  },
  {
   "cell_type": "markdown",
   "metadata": {},
   "source": [
    "## Get accuracy before training"
   ]
  },
  {
   "cell_type": "code",
   "execution_count": 4,
   "metadata": {},
   "outputs": [
    {
     "name": "stdout",
     "output_type": "stream",
     "text": [
      "Accuracy before training: 0.5090725806451613\n"
     ]
    }
   ],
   "source": [
    "num_training_examples = train_y.shape[0]\n",
    "\n",
    "alpha = np.ones(num_training_examples)\n",
    "b = 0\n",
    "kernel_matrix = rbf_kernel(train_X, test_X)\n",
    "\n",
    "pred_y = predict(alpha, kernel_matrix, b, train_y)\n",
    "\n",
    "print(f'Accuracy before training: {accuracy(pred_y, test_y)}')"
   ]
  },
  {
   "cell_type": "markdown",
   "metadata": {},
   "source": [
    "# Speed test: SMO fast and slow"
   ]
  },
  {
   "cell_type": "code",
   "execution_count": 7,
   "metadata": {},
   "outputs": [
    {
     "name": "stdout",
     "output_type": "stream",
     "text": [
      "0.936\n",
      "Time taken: 0.562298059463501s\n"
     ]
    }
   ],
   "source": [
    "start = time.time()\n",
    "svm = SVM(optim = 'SMO',\n",
    "          kernel = 'rbf',\n",
    "          C = 1,\n",
    "          max_passes = 10,\n",
    "          calc_g_iterates = False)\n",
    "svm.fit(train_X, train_y)\n",
    "print(svm.get_accuracy(test_X, test_y))\n",
    "end = time.time()\n",
    "print(f'Time taken: {end-start}s')\n",
    "\n",
    "# Full dataset"
   ]
  },
  {
   "cell_type": "markdown",
   "metadata": {},
   "source": [
    "# Check if Q is positive definite\n",
    "$Q$ is the matrix with elements $Q_{ij} = y_iy_jk(x_i,x_j)$"
   ]
  },
  {
   "cell_type": "code",
   "execution_count": 18,
   "metadata": {},
   "outputs": [],
   "source": [
    "Q_mat = Q_matrix(svm.train_X, svm.train_y, rbf_kernel)"
   ]
  },
  {
   "cell_type": "code",
   "execution_count": 19,
   "metadata": {},
   "outputs": [
    {
     "data": {
      "text/plain": [
       "True"
      ]
     },
     "execution_count": 19,
     "metadata": {},
     "output_type": "execute_result"
    }
   ],
   "source": [
    "is_pos_def(Q_mat)"
   ]
  },
  {
   "cell_type": "markdown",
   "metadata": {},
   "source": [
    "# Checking the convergence of g\n",
    "\n",
    "\\begin{equation}\n",
    "  g(\\alpha) = \\sum_{i=1}^m \\alpha_i - \\frac{1}{2}\\sum_{i=1}^m\\sum_{j=1}^m \\alpha_i \\alpha_j y_i y_j k(x_i,x_j)\n",
    "   \\label{eq:svoptim_problem}\n",
    "\\end{equation}"
   ]
  },
  {
   "cell_type": "code",
   "execution_count": 15,
   "metadata": {},
   "outputs": [
    {
     "ename": "IndexError",
     "evalue": "list index out of range",
     "output_type": "error",
     "traceback": [
      "\u001b[0;31m---------------------------------------------------------------------------\u001b[0m",
      "\u001b[0;31mIndexError\u001b[0m                                Traceback (most recent call last)",
      "\u001b[0;32m<ipython-input-15-e228d01a9462>\u001b[0m in \u001b[0;36m<module>\u001b[0;34m\u001b[0m\n\u001b[0;32m----> 1\u001b[0;31m \u001b[0msvm\u001b[0m\u001b[0;34m.\u001b[0m\u001b[0mplot_convergence\u001b[0m\u001b[0;34m(\u001b[0m\u001b[0;34m)\u001b[0m\u001b[0;34m\u001b[0m\u001b[0;34m\u001b[0m\u001b[0m\n\u001b[0m\u001b[1;32m      2\u001b[0m \u001b[0mplt\u001b[0m\u001b[0;34m.\u001b[0m\u001b[0mxlabel\u001b[0m\u001b[0;34m(\u001b[0m\u001b[0;34m'Steps'\u001b[0m\u001b[0;34m)\u001b[0m\u001b[0;34m\u001b[0m\u001b[0;34m\u001b[0m\u001b[0m\n",
      "\u001b[0;32m~/Documents/Università/MSc ML/A. Numerical Optimisation/FInal project/Code/svm.py\u001b[0m in \u001b[0;36mplot_convergence\u001b[0;34m(self)\u001b[0m\n\u001b[1;32m     97\u001b[0m             \u001b[0;34m-\u001b[0m \u001b[0mthe\u001b[0m \u001b[0mconvergence\u001b[0m \u001b[0mof\u001b[0m \u001b[0mg\u001b[0m \u001b[0;34m(\u001b[0m\u001b[0mg_\u001b[0m\u001b[0;34m{\u001b[0m\u001b[0mt\u001b[0m\u001b[0;34m+\u001b[0m\u001b[0;36m1\u001b[0m\u001b[0;34m}\u001b[0m \u001b[0;34m-\u001b[0m \u001b[0mg_star\u001b[0m\u001b[0;34m)\u001b[0m\u001b[0;34m/\u001b[0m\u001b[0;34m(\u001b[0m\u001b[0mg_t\u001b[0m \u001b[0;34m-\u001b[0m \u001b[0mg_star\u001b[0m\u001b[0;34m)\u001b[0m\u001b[0;34m\u001b[0m\u001b[0;34m\u001b[0m\u001b[0m\n\u001b[1;32m     98\u001b[0m         '''\n\u001b[0;32m---> 99\u001b[0;31m         \u001b[0mg_star\u001b[0m \u001b[0;34m=\u001b[0m \u001b[0mself\u001b[0m\u001b[0;34m.\u001b[0m\u001b[0mg_iterates\u001b[0m\u001b[0;34m[\u001b[0m\u001b[0;34m-\u001b[0m\u001b[0;36m1\u001b[0m\u001b[0;34m]\u001b[0m \u001b[0;31m# Use the last value of g obtained as the comparison\u001b[0m\u001b[0;34m\u001b[0m\u001b[0;34m\u001b[0m\u001b[0m\n\u001b[0m\u001b[1;32m    100\u001b[0m         \u001b[0mg_min_gstar\u001b[0m \u001b[0;34m=\u001b[0m \u001b[0mself\u001b[0m\u001b[0;34m.\u001b[0m\u001b[0mg_iterates\u001b[0m\u001b[0;34m-\u001b[0m\u001b[0mg_star\u001b[0m\u001b[0;34m\u001b[0m\u001b[0;34m\u001b[0m\u001b[0m\n\u001b[1;32m    101\u001b[0m         \u001b[0mnominator\u001b[0m \u001b[0;34m=\u001b[0m \u001b[0mg_min_gstar\u001b[0m\u001b[0;34m[\u001b[0m\u001b[0;36m1\u001b[0m\u001b[0;34m:\u001b[0m\u001b[0;34m]\u001b[0m \u001b[0;31m# g_{t+1} - g_star\u001b[0m\u001b[0;34m\u001b[0m\u001b[0;34m\u001b[0m\u001b[0m\n",
      "\u001b[0;31mIndexError\u001b[0m: list index out of range"
     ]
    }
   ],
   "source": [
    "svm.plot_convergence()\n",
    "plt.xlabel('Steps')"
   ]
  },
  {
   "cell_type": "markdown",
   "metadata": {},
   "source": [
    "# Backtracking"
   ]
  },
  {
   "cell_type": "code",
   "execution_count": 1,
   "metadata": {},
   "outputs": [],
   "source": [
    "import numpy as np\n",
    "\n",
    "from utils.data import create_data\n",
    "from utils.utils import scikit_svm, predict, accuracy, Q_matrix, is_pos_def\n",
    "from utils.kernels import rbf_kernel\n",
    "\n",
    "from optimisation.backtracking import backtracking\n",
    "from optimisation.newton import newton_method\n",
    "\n",
    "from svm import SVM\n",
    "\n",
    "import matplotlib.pyplot as plt\n",
    "\n",
    "import time"
   ]
  },
  {
   "cell_type": "code",
   "execution_count": 2,
   "metadata": {},
   "outputs": [],
   "source": [
    "class TestFunction:\n",
    "    def __init__(self):\n",
    "        self.Q = np.random.rand(2,2)\n",
    "    \n",
    "    def f(self, x):\n",
    "        return np.transpose(x) @ self.Q @ x\n",
    "    \n",
    "    def df(self, x):\n",
    "        return  2*self.Q @ x\n",
    "    \n",
    "    def d2f(self, x):\n",
    "        return 2*self.Q"
   ]
  },
  {
   "cell_type": "code",
   "execution_count": 8,
   "metadata": {},
   "outputs": [
    {
     "name": "stdout",
     "output_type": "stream",
     "text": [
      "[[1. 0.]\n",
      " [0. 0.]]\n",
      "[10.  0.]\n"
     ]
    }
   ],
   "source": [
    "F = TestFunction()\n",
    "A = np.zeros((2,2))\n",
    "A[0,0] = 1\n",
    "print(A)\n",
    "#A = np.random.rand(2,2)\n",
    "x = 10*np.ones(2)\n",
    "x[1] = 0\n",
    "print(x)\n",
    "b = np.ones(2)\n",
    "b[1] = 0"
   ]
  },
  {
   "cell_type": "code",
   "execution_count": 9,
   "metadata": {},
   "outputs": [
    {
     "data": {
      "text/plain": [
       "(array([ 11.        , -38.64502415]), 2)"
      ]
     },
     "execution_count": 9,
     "metadata": {},
     "output_type": "execute_result"
    }
   ],
   "source": [
    "newton_method(F, x, A, b, backtracking, max_iter=200, tol=1e-6, alpha0 = 1)"
   ]
  },
  {
   "cell_type": "code",
   "execution_count": 12,
   "metadata": {},
   "outputs": [
    {
     "data": {
      "text/plain": [
       "array([0.5, 0.5])"
      ]
     },
     "execution_count": 12,
     "metadata": {},
     "output_type": "execute_result"
    }
   ],
   "source": [
    "np.linalg.pinv(np.ones((2,2))) @ np.ones(2)"
   ]
  },
  {
   "cell_type": "code",
   "execution_count": null,
   "metadata": {},
   "outputs": [],
   "source": []
  }
 ],
 "metadata": {
  "kernelspec": {
   "display_name": "COMP0120",
   "language": "python",
   "name": "comp0120"
  },
  "language_info": {
   "codemirror_mode": {
    "name": "ipython",
    "version": 3
   },
   "file_extension": ".py",
   "mimetype": "text/x-python",
   "name": "python",
   "nbconvert_exporter": "python",
   "pygments_lexer": "ipython3",
   "version": "3.6.9"
  }
 },
 "nbformat": 4,
 "nbformat_minor": 4
}
