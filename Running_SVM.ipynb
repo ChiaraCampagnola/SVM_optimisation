{
 "cells": [
  {
   "cell_type": "code",
   "execution_count": 1,
   "metadata": {},
   "outputs": [],
   "source": [
    "import numpy as np\n",
    "\n",
    "from utils.data import create_data\n",
    "from utils.utils import scikit_svm, predict, accuracy, Q_matrix, is_pos_def\n",
    "from utils.kernels import rbf_kernel\n",
    "from svm import SVM\n",
    "\n",
    "import matplotlib.pyplot as plt\n",
    "\n",
    "import time"
   ]
  },
  {
   "cell_type": "code",
   "execution_count": 2,
   "metadata": {},
   "outputs": [],
   "source": [
    "%matplotlib widget"
   ]
  },
  {
   "cell_type": "code",
   "execution_count": 3,
   "metadata": {},
   "outputs": [],
   "source": [
    "#create_data(file_name = 'data_38', classes = [3,8])\n",
    "load_data = np.load('data_38.npz')\n",
    "train_X, train_y = load_data['train_X'], load_data['train_y']\n",
    "test_X, test_y = load_data['test_X'], load_data['test_y']"
   ]
  },
  {
   "cell_type": "markdown",
   "metadata": {},
   "source": [
    "# Checking if data is linearly separable"
   ]
  },
  {
   "cell_type": "code",
   "execution_count": 52,
   "metadata": {},
   "outputs": [
    {
     "name": "stdout",
     "output_type": "stream",
     "text": [
      "Accuracy using gaussian kernel: 0.968\n"
     ]
    }
   ],
   "source": [
    "# Takes a bit to run\n",
    "#linear = scikit_svm('linear', train_X, train_y, test_X, test_y)\n",
    "rbf = scikit_svm('rbf', train_X, train_y, test_X, test_y)\n",
    "#print(f'Accuracy using linear kernel: {linear}')\n",
    "print(f'Accuracy using gaussian kernel: {rbf}')"
   ]
  },
  {
   "cell_type": "code",
   "execution_count": 4,
   "metadata": {},
   "outputs": [],
   "source": [
    "# Create mini dataset for testing\n",
    "train_X, train_y = train_X[:1000,:], train_y[:1000]\n",
    "test_X, test_y = test_X[:500,:], test_y[:500]"
   ]
  },
  {
   "cell_type": "markdown",
   "metadata": {},
   "source": [
    "# Running SMO"
   ]
  },
  {
   "cell_type": "markdown",
   "metadata": {},
   "source": [
    "## Get accuracy before training"
   ]
  },
  {
   "cell_type": "code",
   "execution_count": 4,
   "metadata": {},
   "outputs": [
    {
     "name": "stdout",
     "output_type": "stream",
     "text": [
      "Accuracy before training: 0.5090725806451613\n"
     ]
    }
   ],
   "source": [
    "num_training_examples = train_y.shape[0]\n",
    "\n",
    "alpha = np.ones(num_training_examples)\n",
    "b = 0\n",
    "kernel_matrix = rbf_kernel(train_X, test_X)\n",
    "\n",
    "pred_y = predict(alpha, kernel_matrix, b, train_y)\n",
    "\n",
    "print(f'Accuracy before training: {accuracy(pred_y, test_y)}')"
   ]
  },
  {
   "cell_type": "markdown",
   "metadata": {},
   "source": [
    "# Speed test: SMO fast and slow"
   ]
  },
  {
   "cell_type": "code",
   "execution_count": 5,
   "metadata": {},
   "outputs": [
    {
     "name": "stdout",
     "output_type": "stream",
     "text": [
      "0.916\n",
      "Time taken with slow implementation: 20.7358238697052s\n"
     ]
    }
   ],
   "source": [
    "start = time.time()\n",
    "svm = SVM(optim = 'SMO',\n",
    "          kernel = 'rbf',\n",
    "          C = 1,\n",
    "          max_passes = 10,\n",
    "          calc_g_iterates = True)\n",
    "svm.fit(train_X, train_y)\n",
    "print(svm.get_accuracy(test_X, test_y))\n",
    "end = time.time()\n",
    "print(f'Time taken with slow implementation: {end-start}s')"
   ]
  },
  {
   "cell_type": "markdown",
   "metadata": {},
   "source": [
    "# Check if Q is positive definite\n",
    "$Q$ is the matrix with elements $Q_{ij} = y_iy_jk(x_i,x_j)$"
   ]
  },
  {
   "cell_type": "code",
   "execution_count": 18,
   "metadata": {},
   "outputs": [],
   "source": [
    "Q_mat = Q_matrix(svm.train_X, svm.train_y, rbf_kernel)"
   ]
  },
  {
   "cell_type": "code",
   "execution_count": 19,
   "metadata": {},
   "outputs": [
    {
     "data": {
      "text/plain": [
       "True"
      ]
     },
     "execution_count": 19,
     "metadata": {},
     "output_type": "execute_result"
    }
   ],
   "source": [
    "is_pos_def(Q_mat)"
   ]
  },
  {
   "cell_type": "markdown",
   "metadata": {},
   "source": [
    "# Checking the convergence of g\n",
    "\n",
    "\\begin{equation}\n",
    "  g(\\alpha) = \\sum_{i=1}^m \\alpha_i - \\frac{1}{2}\\sum_{i=1}^m\\sum_{j=1}^m \\alpha_i \\alpha_j y_i y_j k(x_i,x_j)\n",
    "   \\label{eq:svoptim_problem}\n",
    "\\end{equation}"
   ]
  },
  {
   "cell_type": "code",
   "execution_count": 6,
   "metadata": {},
   "outputs": [
    {
     "data": {
      "application/vnd.jupyter.widget-view+json": {
       "model_id": "86acd5bec23e4efda7e1b0f14f3a60ce",
       "version_major": 2,
       "version_minor": 0
      },
      "text/plain": [
       "Canvas(toolbar=Toolbar(toolitems=[('Home', 'Reset original view', 'home', 'home'), ('Back', 'Back to previous …"
      ]
     },
     "metadata": {},
     "output_type": "display_data"
    },
    {
     "data": {
      "text/plain": [
       "Text(0.5, 0, 'Steps')"
      ]
     },
     "execution_count": 6,
     "metadata": {},
     "output_type": "execute_result"
    }
   ],
   "source": [
    "svm.plot_convergence()\n",
    "plt.xlabel('Steps')"
   ]
  },
  {
   "cell_type": "code",
   "execution_count": 8,
   "metadata": {},
   "outputs": [],
   "source": [
    "import sklearn"
   ]
  },
  {
   "cell_type": "code",
   "execution_count": 42,
   "metadata": {},
   "outputs": [],
   "source": [
    "a = sklearn.metrics.pairwise.polynomial_kernel(train_X, train_X, degree=3, gamma=None, coef0=1)"
   ]
  },
  {
   "cell_type": "code",
   "execution_count": 29,
   "metadata": {},
   "outputs": [],
   "source": [
    "def polynomial_kernel(X_train, X_test, degree = 2, gamma = None, c = 1):\n",
    "    \n",
    "    if gamma is None:\n",
    "        gamma = 1/X_train.shape[1] # Default value = 1/number of features\n",
    "    \n",
    "    dot = np.matmul(X_train, np.transpose(X_test))\n",
    "    \n",
    "    return np.power(gamma*dot + c, degree)"
   ]
  },
  {
   "cell_type": "code",
   "execution_count": 43,
   "metadata": {},
   "outputs": [
    {
     "data": {
      "text/plain": [
       "array([[ True,  True,  True, ...,  True,  True,  True],\n",
       "       [ True,  True,  True, ...,  True,  True,  True],\n",
       "       [ True,  True,  True, ...,  True,  True,  True],\n",
       "       ...,\n",
       "       [ True,  True,  True, ...,  True,  True,  True],\n",
       "       [ True,  True,  True, ...,  True,  True,  True],\n",
       "       [ True,  True,  True, ...,  True,  True,  True]])"
      ]
     },
     "execution_count": 43,
     "metadata": {},
     "output_type": "execute_result"
    }
   ],
   "source": [
    "polynomial_kernel(train_X, train_X, degree=3) == a"
   ]
  },
  {
   "cell_type": "code",
   "execution_count": 44,
   "metadata": {},
   "outputs": [
    {
     "data": {
      "text/plain": [
       "array([[1.54801477, 1.31978044, 1.26963979, ..., 1.40757825, 1.20765103,\n",
       "        1.39950812],\n",
       "       [1.31978044, 1.42531284, 1.28761843, ..., 1.32361529, 1.19533134,\n",
       "        1.27979038],\n",
       "       [1.26963979, 1.28761843, 1.5381469 , ..., 1.2536647 , 1.13069621,\n",
       "        1.22508666],\n",
       "       ...,\n",
       "       [1.40757825, 1.32361529, 1.2536647 , ..., 1.58472563, 1.23701806,\n",
       "        1.38876392],\n",
       "       [1.20765103, 1.19533134, 1.13069621, ..., 1.23701806, 1.30223601,\n",
       "        1.25802409],\n",
       "       [1.39950812, 1.27979038, 1.22508666, ..., 1.38876392, 1.25802409,\n",
       "        1.57825307]])"
      ]
     },
     "execution_count": 44,
     "metadata": {},
     "output_type": "execute_result"
    }
   ],
   "source": [
    "a"
   ]
  },
  {
   "cell_type": "code",
   "execution_count": null,
   "metadata": {},
   "outputs": [],
   "source": []
  },
  {
   "cell_type": "code",
   "execution_count": 45,
   "metadata": {},
   "outputs": [
    {
     "data": {
      "text/plain": [
       "array([[1.54801477, 1.31978044, 1.26963979, ..., 1.40757825, 1.20765103,\n",
       "        1.39950812],\n",
       "       [1.31978044, 1.42531284, 1.28761843, ..., 1.32361529, 1.19533134,\n",
       "        1.27979038],\n",
       "       [1.26963979, 1.28761843, 1.5381469 , ..., 1.2536647 , 1.13069621,\n",
       "        1.22508666],\n",
       "       ...,\n",
       "       [1.40757825, 1.32361529, 1.2536647 , ..., 1.58472563, 1.23701806,\n",
       "        1.38876392],\n",
       "       [1.20765103, 1.19533134, 1.13069621, ..., 1.23701806, 1.30223601,\n",
       "        1.25802409],\n",
       "       [1.39950812, 1.27979038, 1.22508666, ..., 1.38876392, 1.25802409,\n",
       "        1.57825307]])"
      ]
     },
     "execution_count": 45,
     "metadata": {},
     "output_type": "execute_result"
    }
   ],
   "source": [
    "polynomial_kernel(train_X, train_X, degree=3)"
   ]
  },
  {
   "cell_type": "code",
   "execution_count": null,
   "metadata": {},
   "outputs": [],
   "source": []
  }
 ],
 "metadata": {
  "kernelspec": {
   "display_name": "COMP0120",
   "language": "python",
   "name": "comp0120"
  },
  "language_info": {
   "codemirror_mode": {
    "name": "ipython",
    "version": 3
   },
   "file_extension": ".py",
   "mimetype": "text/x-python",
   "name": "python",
   "nbconvert_exporter": "python",
   "pygments_lexer": "ipython3",
   "version": "3.6.9"
  }
 },
 "nbformat": 4,
 "nbformat_minor": 4
}
