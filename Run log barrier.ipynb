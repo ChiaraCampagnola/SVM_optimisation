{
 "cells": [
  {
   "cell_type": "code",
   "execution_count": 1,
   "id": "037e15cf-63a3-4556-b45a-aabc875baeef",
   "metadata": {},
   "outputs": [],
   "source": [
    "import numpy as np\n",
    "\n",
    "from utils.data import create_data\n",
    "from utils.utils import scikit_svm, predict, accuracy, Q_matrix, is_pos_def\n",
    "from utils.kernels import rbf_kernel\n",
    "\n",
    "from optimisation.backtracking import backtracking\n",
    "from optimisation.newton import newton_method\n",
    "\n",
    "from svm import SVM\n",
    "\n",
    "import matplotlib.pyplot as plt\n",
    "\n",
    "import time"
   ]
  },
  {
   "cell_type": "code",
   "execution_count": 2,
   "id": "570c31fb-d0c1-4439-935e-41562d78abc6",
   "metadata": {},
   "outputs": [],
   "source": [
    "%matplotlib widget"
   ]
  },
  {
   "cell_type": "code",
   "execution_count": 3,
   "id": "bf800246-c49b-4bdb-8fb9-abc72f4c9dbd",
   "metadata": {},
   "outputs": [],
   "source": [
    "#create_data(file_name = 'data_38_med', classes = [3,8], max_train = 1000, max_test = 500)\n",
    "load_data = np.load('data_38.npz')\n",
    "train_X, train_y = load_data['train_X'], load_data['train_y']\n",
    "test_X, test_y = load_data['test_X'], load_data['test_y']\n",
    "\n",
    "# Create mini dataset for testing\n",
    "train_X, train_y = train_X[:1000,:], train_y[:1000]\n",
    "test_X, test_y = test_X[:500,:], test_y[:500]"
   ]
  },
  {
   "cell_type": "code",
   "execution_count": 26,
   "id": "465fa78a-53c0-4a81-aaf7-2a181155ae31",
   "metadata": {},
   "outputs": [
    {
     "data": {
      "text/plain": [
       "500"
      ]
     },
     "execution_count": 26,
     "metadata": {},
     "output_type": "execute_result"
    }
   ],
   "source": [
    "len(test_y)"
   ]
  },
  {
   "cell_type": "code",
   "execution_count": 6,
   "id": "a950cd43-7270-45b1-8fbd-b61e2feb3710",
   "metadata": {},
   "outputs": [
    {
     "name": "stdout",
     "output_type": "stream",
     "text": [
      "Accuracy using gaussian kernel: 0.968\n",
      "Time taken: 0.5338122844696045s\n"
     ]
    }
   ],
   "source": [
    "start = time.time()\n",
    "rbf = scikit_svm('rbf', train_X, train_y, test_X, test_y)\n",
    "print(f'Accuracy using gaussian kernel: {rbf}')\n",
    "end = time.time()\n",
    "print(f'Time taken: {end-start}s')"
   ]
  },
  {
   "cell_type": "code",
   "execution_count": 4,
   "id": "c3f39f03-c0e8-4bb8-8fee-3bbeb1997564",
   "metadata": {},
   "outputs": [
    {
     "name": "stdout",
     "output_type": "stream",
     "text": [
      "0.952\n",
      "Time taken: 2.1301021575927734s\n"
     ]
    }
   ],
   "source": [
    "start = time.time()\n",
    "svm = SVM(optim = 'barrier',\n",
    "          kernel = 'rbf',\n",
    "          C = 10,\n",
    "          max_passes = 10,\n",
    "          calc_g_iterates = False,\n",
    "          fit_tol = 1e-3,\n",
    "          mu = 50,\n",
    "          t = 0.5)\n",
    "svm.fit(train_X, train_y)\n",
    "print(svm.get_accuracy(test_X, test_y))\n",
    "end = time.time()\n",
    "print(f'Time taken: {end-start}s')"
   ]
  },
  {
   "cell_type": "code",
   "execution_count": 5,
   "id": "77c3b34c-f930-41e4-ac9d-ef2f902e82a3",
   "metadata": {},
   "outputs": [
    {
     "data": {
      "application/vnd.jupyter.widget-view+json": {
       "model_id": "4c1f9591e30f42698b471a2d80d6de69",
       "version_major": 2,
       "version_minor": 0
      },
      "text/plain": [
       "Canvas(toolbar=Toolbar(toolitems=[('Home', 'Reset original view', 'home', 'home'), ('Back', 'Back to previous …"
      ]
     },
     "metadata": {},
     "output_type": "display_data"
    }
   ],
   "source": [
    "svm.plot_duality_gap()"
   ]
  },
  {
   "cell_type": "code",
   "execution_count": 6,
   "id": "4b32b6e3-d2fa-4c48-bea4-a99b0e36ee38",
   "metadata": {},
   "outputs": [
    {
     "data": {
      "application/vnd.jupyter.widget-view+json": {
       "model_id": "dbca326808b24adfbcf1c1c922552ecb",
       "version_major": 2,
       "version_minor": 0
      },
      "text/plain": [
       "Canvas(toolbar=Toolbar(toolitems=[('Home', 'Reset original view', 'home', 'home'), ('Back', 'Back to previous …"
      ]
     },
     "metadata": {},
     "output_type": "display_data"
    }
   ],
   "source": [
    "svm.plot_alpha_convergence()"
   ]
  },
  {
   "cell_type": "markdown",
   "id": "f9d97d88-89bc-43d7-b2a8-d88c9e03b541",
   "metadata": {},
   "source": [
    "# Code to edit"
   ]
  },
  {
   "cell_type": "code",
   "execution_count": null,
   "id": "5e3e4e29-ada4-4335-8671-a65f0f04eea5",
   "metadata": {},
   "outputs": [],
   "source": []
  },
  {
   "cell_type": "code",
   "execution_count": null,
   "id": "1cbc02c6-bff7-4f96-9101-c3f6f83a5c6c",
   "metadata": {},
   "outputs": [],
   "source": []
  },
  {
   "cell_type": "code",
   "execution_count": null,
   "id": "9f65e48a-984a-42fa-abcd-50d0e2aa61b3",
   "metadata": {},
   "outputs": [],
   "source": []
  },
  {
   "cell_type": "code",
   "execution_count": null,
   "id": "a22cd43c-9f33-4464-8f70-5c9ca035ebc7",
   "metadata": {},
   "outputs": [],
   "source": []
  },
  {
   "cell_type": "code",
   "execution_count": null,
   "id": "bda40800-1368-4625-99b8-68956333fa49",
   "metadata": {},
   "outputs": [],
   "source": []
  }
 ],
 "metadata": {
  "kernelspec": {
   "display_name": "COMP0120",
   "language": "python",
   "name": "comp0120"
  },
  "language_info": {
   "codemirror_mode": {
    "name": "ipython",
    "version": 3
   },
   "file_extension": ".py",
   "mimetype": "text/x-python",
   "name": "python",
   "nbconvert_exporter": "python",
   "pygments_lexer": "ipython3",
   "version": "3.6.9"
  }
 },
 "nbformat": 4,
 "nbformat_minor": 5
}
